{
 "cells": [
  {
   "cell_type": "code",
   "execution_count": 13,
   "id": "e05af2ad",
   "metadata": {},
   "outputs": [],
   "source": [
    "import openai\n",
    "from IPython.display import display, Markdown"
   ]
  },
  {
   "cell_type": "code",
   "execution_count": 18,
   "id": "2f26275f",
   "metadata": {},
   "outputs": [],
   "source": [
    "with open('secrets/openai_api_key_old.txt', 'r') as f:\n",
    "    openai.api_key = f.read().strip()\n",
    "    \n",
    "system_prompt = '''\n",
    "You are an expert writer and commentator. \n",
    "The user will give you an article, and you will write a summary and a thoughtful opinion/analysis.\n",
    "\n",
    "The summary should be a paragraph long, contain key technical details, and be easy to understand. \n",
    "The summary should highlight key words and concepts from the article without abstracting them away. \n",
    "It should end with the key takeaway from the article.\n",
    "\n",
    "The opinion/analysis should provide insightful commentary based on information outside of what's strictly in the article. \n",
    "It should provide an interesting, sometimes critical take on the article's subject matter, and it should leave the reader some food for thought. \n",
    "This should short and to the point.\n",
    "\n",
    "Respond in markdown.'''"
   ]
  },
  {
   "cell_type": "code",
   "execution_count": 21,
   "id": "3362f4d0",
   "metadata": {},
   "outputs": [],
   "source": [
    "title = \"Why use of AI is a major sticking point in the ongoing writers' strike\"\n",
    "subtitle = \"The writers' strike was initially about compensation in an era of streaming services. Now the role of AI has also become a major point of contention in negotiations between the Writers Guild of America and companies such as Disney and Netflix\"\n",
    "content = '''\n",
    "Could AI soon write your favourite Hollywood film or streaming show? That concern is one of the issues driving a US film and television writers’ strike that has halted many productions nationwide.\n",
    "\n",
    "The Writers Guild of America (WGA), a labour union representing writers who primarily work in film and television, began the work strike this month after reaching an impasse in negotiations with the Alliance of Motion Picture and Television Producers that represents the US entertainment industry. Part of the disagreement revolves around a WGA proposal to ban the industry from using AIs such as ChatGPT to generate story ideas or scripts for films and shows – the union wants to ensure that such technologies do not undermine writers’ compensation and writing credits.\n",
    "\n",
    "“The fear is that AI could be used to produce first drafts of shows, and then a small number of writers would work off of those scripts,” says Virginia Doellgast at Cornell University in New York.\n",
    "\n",
    "The WGA has also proposed that any scripts covered by the union’s collective bargaining agreement cannot be used to train AIs. There has already been broader resistance against tech companies scraping online content for free to train large language models and other generative AIs on text and images originally created by humans.\n",
    "\n",
    "Hollywood studios on the other side of the negotiating table include companies such as Walt Disney Studios and Warner Bros. Studios, along with streaming services such as Netflix, Apple TV+ and Amazon Prime Video. The industry rejected the initial WGA proposal and countered with an offer to hold annual meetings to discuss new technological changes.\n",
    "\n",
    "“This is a pretty weak commitment – the writers would have little power in those discussions to influence how the technologies are used,” says Doellgast. “The studios don’t want to negotiate hard limits on how they will use AI.”\n",
    "\n",
    "Sign up to our The Weekly newsletter\n",
    "\n",
    "Receive a weekly dose of discovery in your inbox.\n",
    "\n",
    "Sign up to newsletter\n",
    "The Alliance of Motion Picture and Television Producers issued a statement on 4 May saying that “AI raises hard, important creative and legal questions for everyone”. It also noted that the previous and now-expired agreement with the WGA already defined a writer as a “person” and would exclude AI from receiving a writing credit.\n",
    "\n",
    "The writers’ strike comes at a time when the separate union representing actors and other performance artists is also looking to regulate possible uses of AI, including using AI to simulate actor performances or digitally edit filmed facial expressions and sync new audio to people’s lips.\n",
    "\n",
    "“The WGA’s demands are a bellwether that workers don’t intend to stand for companies using AI to justify devaluation of their craft and expertise,” says Sarah Myers West at the AI Now Institute in New York. “The WGA is pointing out an important question – who is benefiting from the development and use of these systems, and who is harmed by them?”\n",
    "\n",
    "Workers in other industries – such as accounting and IT support, customer service and software programming – are already seeing companies use AI to automate parts of their jobs and sometimes even to replace human workers. By comparison, writers “have a strong union backing them up and solidarity from other creative workers in their industry”, along with higher individual bargaining power and in-demand skills, says Doellgast.\n",
    "\n",
    "Read more:\n",
    "\n",
    "With AI exploiting businesses’ data, when do we get paid and by whom?\n",
    "\n",
    "Beyond the AI issue, the writers’ strike is also focused on how the shift in viewing habits from TV broadcast networks to streaming services has impacted writers’ income and job security, says Doellgast. For example, writing jobs are now typically based on shorter seasons with fewer episodes for shows produced by platforms such as Netflix or Amazon Prime Video.\n",
    "\n",
    "Companies have often won out in historical labour conflicts over technological automation of human work. But there have been cases where workers stood their ground: for example, in the 1960s unions representing US dock workers negotiated for employment security against tech-driven downsizing and for a pension fund for early worker retirement.\n",
    "\n",
    "It may be difficult to stop the eventual use of AI in creative fields like TV and filmmaking. But in the case of the writers’ strike, an amicable agreement granting the WGA more control over how AI is used in scriptwriting could ensure that writers reap some benefits, even if part of their work gets automated, says Simon Johnson at the Massachusetts Institute of Technology.\n",
    "\n",
    "“The short-term key is who will control AI – labour or capital,” says Johnson. “If capital controls it, labour will lose big time and fast.”\n",
    "'''"
   ]
  },
  {
   "cell_type": "code",
   "execution_count": 22,
   "id": "71d1e17a",
   "metadata": {},
   "outputs": [
    {
     "data": {
      "text/markdown": [
       "**Summary:** The Writers Guild of America (WGA) strike has brought attention to the use of AI in the film and television industry, with the union proposing a ban on AI-generated story ideas and scripts. The WGA also wants to prevent scripts covered by their collective bargaining agreement from being used to train AI models. Hollywood studios and streaming services have rejected the proposal, offering annual meetings to discuss technological changes instead. The strike highlights concerns about AI's potential impact on writers' compensation, writing credits, and the devaluation of their craft.\n",
       "\n",
       "**Opinion/Analysis:** The WGA strike raises important questions about the role of AI in creative industries and the potential consequences for human workers. While AI has already automated parts of jobs in other sectors, the creative field has been relatively untouched. However, the WGA's demands signal a growing awareness among creative professionals that AI could threaten their livelihoods and the value of their work. The outcome of this strike could set a precedent for how other creative industries approach the integration of AI and the protection of human workers. It's crucial for both sides to find a balance between embracing technological advancements and preserving the unique contributions of human creativity."
      ],
      "text/plain": [
       "<IPython.core.display.Markdown object>"
      ]
     },
     "metadata": {},
     "output_type": "display_data"
    }
   ],
   "source": [
    "user_prompt = f'''\n",
    "Title: {title}\n",
    "Subtitle: {subtitle}\n",
    "{content}\n",
    "'''\n",
    "\n",
    "messages = [\n",
    "    {'role': 'system', 'content': system_prompt},\n",
    "    {'role': 'user', 'content': user_prompt}\n",
    "]\n",
    "\n",
    "summary = openai.ChatCompletion.create(\n",
    "    model='gpt-4', \n",
    "    messages=messages,\n",
    "    max_tokens=500,\n",
    "    temperature=0\n",
    ").choices[0]['message']['content']\n",
    "\n",
    "display(Markdown(summary))"
   ]
  },
  {
   "cell_type": "code",
   "execution_count": null,
   "id": "7aa5b2ea",
   "metadata": {},
   "outputs": [],
   "source": []
  }
 ],
 "metadata": {
  "kernelspec": {
   "display_name": "jacky",
   "language": "python",
   "name": "jacky"
  },
  "language_info": {
   "codemirror_mode": {
    "name": "ipython",
    "version": 3
   },
   "file_extension": ".py",
   "mimetype": "text/x-python",
   "name": "python",
   "nbconvert_exporter": "python",
   "pygments_lexer": "ipython3",
   "version": "3.10.11"
  }
 },
 "nbformat": 4,
 "nbformat_minor": 5
}
