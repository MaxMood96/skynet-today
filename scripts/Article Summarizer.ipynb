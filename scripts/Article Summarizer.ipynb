{
 "cells": [
  {
   "cell_type": "code",
   "execution_count": 1,
   "id": "e05af2ad",
   "metadata": {},
   "outputs": [],
   "source": [
    "import openai\n",
    "from newspaper import Article\n",
    "from IPython.display import display, Markdown"
   ]
  },
  {
   "cell_type": "code",
   "execution_count": 24,
   "id": "2f26275f",
   "metadata": {},
   "outputs": [],
   "source": [
    "with open('secrets/openai_api_key.txt', 'r') as f:\n",
    "    openai.api_key = f.read().strip()\n",
    "    \n",
    "system_prompt = '''\n",
    "You are an expert writer and commentator. \n",
    "The user will give you an article, and you will write a summary and a thoughtful opinion/analysis.\n",
    "\n",
    "The summary should be a paragraph long, contain key technical details, and be easy to understand. \n",
    "The summary should highlight key words and concepts from the article without abstracting them away. \n",
    "It should end with the key takeaway from the article.\n",
    "The summary does not have a prefix.\n",
    "\n",
    "The opinion/analysis should provide insightful commentary based on information outside of what's strictly in the article. \n",
    "It should provide an interesting, sometimes critical take on the article's subject matter, and it should leave the reader some food for thought. \n",
    "This should short and to the point.\n",
    "This paragraph should be prefixed with \"**Our Take:** \"\n",
    "\n",
    "Respond in markdown.'''"
   ]
  },
  {
   "cell_type": "code",
   "execution_count": 12,
   "id": "9b790209",
   "metadata": {},
   "outputs": [],
   "source": [
    "url = 'https://www.washingtonpost.com/technology/2023/06/14/eu-parliament-approves-ai-act/'\n",
    "\n",
    "article = Article(url)\n",
    "article.download()\n",
    "article.parse()\n",
    "\n",
    "title = article.title\n",
    "text = article.text\n",
    "words = text.split(\" \")\n",
    "if len(words) > 2000:\n",
    "    text = \" \".join(words[:2000])"
   ]
  },
  {
   "cell_type": "code",
   "execution_count": 27,
   "id": "19547d3e",
   "metadata": {},
   "outputs": [
    {
     "data": {
      "text/plain": [
       "True"
      ]
     },
     "execution_count": 27,
     "metadata": {},
     "output_type": "execute_result"
    }
   ],
   "source": [
    "article.has_top_image()"
   ]
  },
  {
   "cell_type": "code",
   "execution_count": 34,
   "id": "32e315e2",
   "metadata": {},
   "outputs": [
    {
     "data": {
      "text/plain": [
       "'https://www.washingtonpost.com/wp-apps/imrs.php?src=https://arc-anglerfish-washpost-prod-washpost.s3.amazonaws.com/public/D3DHTX5CWEVTA7QAL3DWDNX5AQ.jpg&w=1440'"
      ]
     },
     "execution_count": 34,
     "metadata": {},
     "output_type": "execute_result"
    }
   ],
   "source": [
    "article.top_image"
   ]
  },
  {
   "cell_type": "code",
   "execution_count": 30,
   "id": "71ac1003",
   "metadata": {},
   "outputs": [
    {
     "data": {
      "text/markdown": [
       "![](https://www.washingtonpost.com/wp-apps/imrs.php?src=https://arc-anglerfish-washpost-prod-washpost.s3.amazonaws.com/public/D3DHTX5CWEVTA7QAL3DWDNX5AQ.jpg&w=1440)"
      ],
      "text/plain": [
       "<IPython.core.display.Markdown object>"
      ]
     },
     "metadata": {},
     "output_type": "display_data"
    }
   ],
   "source": [
    "md = f'![]({article.top_image})'\n",
    "\n",
    "display(Markdown(md))"
   ]
  },
  {
   "cell_type": "code",
   "execution_count": 31,
   "id": "71d1e17a",
   "metadata": {},
   "outputs": [
    {
     "data": {
      "text/markdown": [
       "The European Parliament has approved the EU AI Act, a comprehensive package of regulations aimed at protecting consumers from the potential dangers of artificial intelligence (AI). The legislation takes a risk-based approach, introducing restrictions on AI applications that are deemed unacceptable or high risk. It specifically targets generative AI, requiring companies to label AI-generated content and publish summaries of copyrighted data used to train their tools. The legislation has raised concerns among tech giants, with OpenAI stating that it may be forced to withdraw from Europe. The EU's progress in AI regulation puts it ahead of the US, where discussions on the topic have been slow. The EU's regulations are likely to influence global policymakers and set international standards.\n",
       "\n",
       "**Our Take:** The EU's move to regulate AI demonstrates its commitment to protecting consumers and addressing the potential risks associated with the technology. By taking a risk-based approach, the legislation aims to strike a balance between enabling innovation and preventing harm. However, the regulations also pose challenges for tech giants, who may need to adjust their practices to comply with the new rules. This raises questions about the global impact of the EU's regulations and whether they will create a fragmented regulatory landscape. It also highlights the need for international cooperation and coordination in AI governance to ensure consistency and avoid conflicts between different regulatory frameworks. As AI continues to advance, policymakers must stay vigilant and adapt regulations to keep pace with technological developments."
      ],
      "text/plain": [
       "<IPython.core.display.Markdown object>"
      ]
     },
     "metadata": {},
     "output_type": "display_data"
    }
   ],
   "source": [
    "user_prompt = f'''\n",
    "Title: {title}\n",
    "{text}\n",
    "'''\n",
    "\n",
    "messages = [\n",
    "    {'role': 'system', 'content': system_prompt},\n",
    "    {'role': 'user', 'content': user_prompt}\n",
    "]\n",
    "\n",
    "summary = openai.ChatCompletion.create(\n",
    "    model='gpt-3.5-turbo-16k', \n",
    "    messages=messages,\n",
    "    max_tokens=500,\n",
    "    temperature=0\n",
    ").choices[0]['message']['content']\n",
    "\n",
    "display(Markdown(summary))"
   ]
  }
 ],
 "metadata": {
  "kernelspec": {
   "display_name": "jacky",
   "language": "python",
   "name": "jacky"
  },
  "language_info": {
   "codemirror_mode": {
    "name": "ipython",
    "version": 3
   },
   "file_extension": ".py",
   "mimetype": "text/x-python",
   "name": "python",
   "nbconvert_exporter": "python",
   "pygments_lexer": "ipython3",
   "version": "3.10.11"
  }
 },
 "nbformat": 4,
 "nbformat_minor": 5
}
